{
 "cells": [
  {
   "cell_type": "markdown",
   "id": "be39a7c9",
   "metadata": {
    "papermill": {
     "duration": 0.029274,
     "end_time": "2022-02-20T14:08:02.985611",
     "exception": false,
     "start_time": "2022-02-20T14:08:02.956337",
     "status": "completed"
    },
    "tags": []
   },
   "source": [
    "#   **Classify Body Performance Dataset**"
   ]
  },
  {
   "cell_type": "code",
   "execution_count": 1,
   "id": "62ce2404",
   "metadata": {
    "_cell_guid": "b1076dfc-b9ad-4769-8c92-a6c4dae69d19",
    "_uuid": "8f2839f25d086af736a60e9eeb907d3b93b6e0e5",
    "execution": {
     "iopub.execute_input": "2022-02-20T14:08:03.046304Z",
     "iopub.status.busy": "2022-02-20T14:08:03.044305Z",
     "iopub.status.idle": "2022-02-20T14:08:04.602855Z",
     "shell.execute_reply": "2022-02-20T14:08:04.602091Z",
     "shell.execute_reply.started": "2022-02-20T14:07:19.909089Z"
    },
    "papermill": {
     "duration": 1.589532,
     "end_time": "2022-02-20T14:08:04.603047",
     "exception": false,
     "start_time": "2022-02-20T14:08:03.013515",
     "status": "completed"
    },
    "tags": []
   },
   "outputs": [],
   "source": [
    "import os\n",
    "import numpy as np\n",
    "import pandas as pd\n",
    "import matplotlib.pyplot as plt\n",
    "import seaborn as sns\n",
    "import warnings\n",
    "warnings.filterwarnings(\"ignore\")\n",
    "\n",
    "from sklearn.model_selection import train_test_split\n",
    "from sklearn.preprocessing import StandardScaler\n",
    "from sklearn.preprocessing import MinMaxScaler\n",
    "from sklearn.linear_model import LogisticRegression\n",
    "from sklearn.tree import DecisionTreeClassifier\n",
    "from sklearn.ensemble import RandomForestClassifier\n",
    "from sklearn.metrics import confusion_matrix, classification_report"
   ]
  },
  {
   "cell_type": "code",
   "execution_count": 2,
   "id": "052af815",
   "metadata": {
    "execution": {
     "iopub.execute_input": "2022-02-20T14:08:04.657543Z",
     "iopub.status.busy": "2022-02-20T14:08:04.656886Z",
     "iopub.status.idle": "2022-02-20T14:08:04.734965Z",
     "shell.execute_reply": "2022-02-20T14:08:04.735487Z",
     "shell.execute_reply.started": "2022-02-20T14:07:21.372375Z"
    },
    "papermill": {
     "duration": 0.106897,
     "end_time": "2022-02-20T14:08:04.735676",
     "exception": false,
     "start_time": "2022-02-20T14:08:04.628779",
     "status": "completed"
    },
    "tags": []
   },
   "outputs": [
    {
     "data": {
      "text/html": [
       "<div>\n",
       "<style scoped>\n",
       "    .dataframe tbody tr th:only-of-type {\n",
       "        vertical-align: middle;\n",
       "    }\n",
       "\n",
       "    .dataframe tbody tr th {\n",
       "        vertical-align: top;\n",
       "    }\n",
       "\n",
       "    .dataframe thead th {\n",
       "        text-align: right;\n",
       "    }\n",
       "</style>\n",
       "<table border=\"1\" class=\"dataframe\">\n",
       "  <thead>\n",
       "    <tr style=\"text-align: right;\">\n",
       "      <th></th>\n",
       "      <th>age</th>\n",
       "      <th>gender</th>\n",
       "      <th>height_cm</th>\n",
       "      <th>weight_kg</th>\n",
       "      <th>body fat_%</th>\n",
       "      <th>diastolic</th>\n",
       "      <th>systolic</th>\n",
       "      <th>gripForce</th>\n",
       "      <th>sit and bend forward_cm</th>\n",
       "      <th>sit-ups counts</th>\n",
       "      <th>broad jump_cm</th>\n",
       "      <th>class</th>\n",
       "    </tr>\n",
       "  </thead>\n",
       "  <tbody>\n",
       "    <tr>\n",
       "      <th>0</th>\n",
       "      <td>27.0</td>\n",
       "      <td>M</td>\n",
       "      <td>172.3</td>\n",
       "      <td>75.24</td>\n",
       "      <td>21.3</td>\n",
       "      <td>80.0</td>\n",
       "      <td>130.0</td>\n",
       "      <td>54.9</td>\n",
       "      <td>18.4</td>\n",
       "      <td>60.0</td>\n",
       "      <td>217.0</td>\n",
       "      <td>C</td>\n",
       "    </tr>\n",
       "    <tr>\n",
       "      <th>1</th>\n",
       "      <td>25.0</td>\n",
       "      <td>M</td>\n",
       "      <td>165.0</td>\n",
       "      <td>55.80</td>\n",
       "      <td>15.7</td>\n",
       "      <td>77.0</td>\n",
       "      <td>126.0</td>\n",
       "      <td>36.4</td>\n",
       "      <td>16.3</td>\n",
       "      <td>53.0</td>\n",
       "      <td>229.0</td>\n",
       "      <td>A</td>\n",
       "    </tr>\n",
       "    <tr>\n",
       "      <th>2</th>\n",
       "      <td>31.0</td>\n",
       "      <td>M</td>\n",
       "      <td>179.6</td>\n",
       "      <td>78.00</td>\n",
       "      <td>20.1</td>\n",
       "      <td>92.0</td>\n",
       "      <td>152.0</td>\n",
       "      <td>44.8</td>\n",
       "      <td>12.0</td>\n",
       "      <td>49.0</td>\n",
       "      <td>181.0</td>\n",
       "      <td>C</td>\n",
       "    </tr>\n",
       "    <tr>\n",
       "      <th>3</th>\n",
       "      <td>32.0</td>\n",
       "      <td>M</td>\n",
       "      <td>174.5</td>\n",
       "      <td>71.10</td>\n",
       "      <td>18.4</td>\n",
       "      <td>76.0</td>\n",
       "      <td>147.0</td>\n",
       "      <td>41.4</td>\n",
       "      <td>15.2</td>\n",
       "      <td>53.0</td>\n",
       "      <td>219.0</td>\n",
       "      <td>B</td>\n",
       "    </tr>\n",
       "    <tr>\n",
       "      <th>4</th>\n",
       "      <td>28.0</td>\n",
       "      <td>M</td>\n",
       "      <td>173.8</td>\n",
       "      <td>67.70</td>\n",
       "      <td>17.1</td>\n",
       "      <td>70.0</td>\n",
       "      <td>127.0</td>\n",
       "      <td>43.5</td>\n",
       "      <td>27.1</td>\n",
       "      <td>45.0</td>\n",
       "      <td>217.0</td>\n",
       "      <td>B</td>\n",
       "    </tr>\n",
       "  </tbody>\n",
       "</table>\n",
       "</div>"
      ],
      "text/plain": [
       "    age gender  height_cm  weight_kg  body fat_%  diastolic  systolic  \\\n",
       "0  27.0      M      172.3      75.24        21.3       80.0     130.0   \n",
       "1  25.0      M      165.0      55.80        15.7       77.0     126.0   \n",
       "2  31.0      M      179.6      78.00        20.1       92.0     152.0   \n",
       "3  32.0      M      174.5      71.10        18.4       76.0     147.0   \n",
       "4  28.0      M      173.8      67.70        17.1       70.0     127.0   \n",
       "\n",
       "   gripForce  sit and bend forward_cm  sit-ups counts  broad jump_cm class  \n",
       "0       54.9                     18.4            60.0          217.0     C  \n",
       "1       36.4                     16.3            53.0          229.0     A  \n",
       "2       44.8                     12.0            49.0          181.0     C  \n",
       "3       41.4                     15.2            53.0          219.0     B  \n",
       "4       43.5                     27.1            45.0          217.0     B  "
      ]
     },
     "execution_count": 2,
     "metadata": {},
     "output_type": "execute_result"
    }
   ],
   "source": [
    "df = pd.read_csv(\"../input/body-performance-data/bodyPerformance.csv\")\n",
    "df.head()"
   ]
  },
  {
   "cell_type": "code",
   "execution_count": 3,
   "id": "0170953e",
   "metadata": {
    "execution": {
     "iopub.execute_input": "2022-02-20T14:08:04.795504Z",
     "iopub.status.busy": "2022-02-20T14:08:04.794530Z",
     "iopub.status.idle": "2022-02-20T14:08:04.800286Z",
     "shell.execute_reply": "2022-02-20T14:08:04.800949Z",
     "shell.execute_reply.started": "2022-02-20T14:07:21.462274Z"
    },
    "papermill": {
     "duration": 0.036745,
     "end_time": "2022-02-20T14:08:04.801126",
     "exception": false,
     "start_time": "2022-02-20T14:08:04.764381",
     "status": "completed"
    },
    "tags": []
   },
   "outputs": [
    {
     "data": {
      "text/plain": [
       "(13393, 12)"
      ]
     },
     "execution_count": 3,
     "metadata": {},
     "output_type": "execute_result"
    }
   ],
   "source": [
    "df.shape"
   ]
  },
  {
   "cell_type": "code",
   "execution_count": 4,
   "id": "fe078b63",
   "metadata": {
    "execution": {
     "iopub.execute_input": "2022-02-20T14:08:04.861264Z",
     "iopub.status.busy": "2022-02-20T14:08:04.859530Z",
     "iopub.status.idle": "2022-02-20T14:08:04.889892Z",
     "shell.execute_reply": "2022-02-20T14:08:04.890482Z",
     "shell.execute_reply.started": "2022-02-20T14:07:21.470559Z"
    },
    "papermill": {
     "duration": 0.061744,
     "end_time": "2022-02-20T14:08:04.890701",
     "exception": false,
     "start_time": "2022-02-20T14:08:04.828957",
     "status": "completed"
    },
    "tags": []
   },
   "outputs": [
    {
     "name": "stdout",
     "output_type": "stream",
     "text": [
      "<class 'pandas.core.frame.DataFrame'>\n",
      "RangeIndex: 13393 entries, 0 to 13392\n",
      "Data columns (total 12 columns):\n",
      " #   Column                   Non-Null Count  Dtype  \n",
      "---  ------                   --------------  -----  \n",
      " 0   age                      13393 non-null  float64\n",
      " 1   gender                   13393 non-null  object \n",
      " 2   height_cm                13393 non-null  float64\n",
      " 3   weight_kg                13393 non-null  float64\n",
      " 4   body fat_%               13393 non-null  float64\n",
      " 5   diastolic                13393 non-null  float64\n",
      " 6   systolic                 13393 non-null  float64\n",
      " 7   gripForce                13393 non-null  float64\n",
      " 8   sit and bend forward_cm  13393 non-null  float64\n",
      " 9   sit-ups counts           13393 non-null  float64\n",
      " 10  broad jump_cm            13393 non-null  float64\n",
      " 11  class                    13393 non-null  object \n",
      "dtypes: float64(10), object(2)\n",
      "memory usage: 1.2+ MB\n"
     ]
    }
   ],
   "source": [
    "df.info()"
   ]
  },
  {
   "cell_type": "code",
   "execution_count": 5,
   "id": "ee758d34",
   "metadata": {
    "execution": {
     "iopub.execute_input": "2022-02-20T14:08:04.949550Z",
     "iopub.status.busy": "2022-02-20T14:08:04.948540Z",
     "iopub.status.idle": "2022-02-20T14:08:04.999197Z",
     "shell.execute_reply": "2022-02-20T14:08:04.998456Z",
     "shell.execute_reply.started": "2022-02-20T14:07:21.512135Z"
    },
    "papermill": {
     "duration": 0.081006,
     "end_time": "2022-02-20T14:08:04.999355",
     "exception": false,
     "start_time": "2022-02-20T14:08:04.918349",
     "status": "completed"
    },
    "tags": []
   },
   "outputs": [
    {
     "data": {
      "text/html": [
       "<div>\n",
       "<style scoped>\n",
       "    .dataframe tbody tr th:only-of-type {\n",
       "        vertical-align: middle;\n",
       "    }\n",
       "\n",
       "    .dataframe tbody tr th {\n",
       "        vertical-align: top;\n",
       "    }\n",
       "\n",
       "    .dataframe thead th {\n",
       "        text-align: right;\n",
       "    }\n",
       "</style>\n",
       "<table border=\"1\" class=\"dataframe\">\n",
       "  <thead>\n",
       "    <tr style=\"text-align: right;\">\n",
       "      <th></th>\n",
       "      <th>age</th>\n",
       "      <th>height_cm</th>\n",
       "      <th>weight_kg</th>\n",
       "      <th>body fat_%</th>\n",
       "      <th>diastolic</th>\n",
       "      <th>systolic</th>\n",
       "      <th>gripForce</th>\n",
       "      <th>sit and bend forward_cm</th>\n",
       "      <th>sit-ups counts</th>\n",
       "      <th>broad jump_cm</th>\n",
       "    </tr>\n",
       "  </thead>\n",
       "  <tbody>\n",
       "    <tr>\n",
       "      <th>count</th>\n",
       "      <td>13393.000000</td>\n",
       "      <td>13393.000000</td>\n",
       "      <td>13393.000000</td>\n",
       "      <td>13393.000000</td>\n",
       "      <td>13393.000000</td>\n",
       "      <td>13393.000000</td>\n",
       "      <td>13393.000000</td>\n",
       "      <td>13393.000000</td>\n",
       "      <td>13393.000000</td>\n",
       "      <td>13393.000000</td>\n",
       "    </tr>\n",
       "    <tr>\n",
       "      <th>mean</th>\n",
       "      <td>36.775106</td>\n",
       "      <td>168.559807</td>\n",
       "      <td>67.447316</td>\n",
       "      <td>23.240165</td>\n",
       "      <td>78.796842</td>\n",
       "      <td>130.234817</td>\n",
       "      <td>36.963877</td>\n",
       "      <td>15.209268</td>\n",
       "      <td>39.771224</td>\n",
       "      <td>190.129627</td>\n",
       "    </tr>\n",
       "    <tr>\n",
       "      <th>std</th>\n",
       "      <td>13.625639</td>\n",
       "      <td>8.426583</td>\n",
       "      <td>11.949666</td>\n",
       "      <td>7.256844</td>\n",
       "      <td>10.742033</td>\n",
       "      <td>14.713954</td>\n",
       "      <td>10.624864</td>\n",
       "      <td>8.456677</td>\n",
       "      <td>14.276698</td>\n",
       "      <td>39.868000</td>\n",
       "    </tr>\n",
       "    <tr>\n",
       "      <th>min</th>\n",
       "      <td>21.000000</td>\n",
       "      <td>125.000000</td>\n",
       "      <td>26.300000</td>\n",
       "      <td>3.000000</td>\n",
       "      <td>0.000000</td>\n",
       "      <td>0.000000</td>\n",
       "      <td>0.000000</td>\n",
       "      <td>-25.000000</td>\n",
       "      <td>0.000000</td>\n",
       "      <td>0.000000</td>\n",
       "    </tr>\n",
       "    <tr>\n",
       "      <th>25%</th>\n",
       "      <td>25.000000</td>\n",
       "      <td>162.400000</td>\n",
       "      <td>58.200000</td>\n",
       "      <td>18.000000</td>\n",
       "      <td>71.000000</td>\n",
       "      <td>120.000000</td>\n",
       "      <td>27.500000</td>\n",
       "      <td>10.900000</td>\n",
       "      <td>30.000000</td>\n",
       "      <td>162.000000</td>\n",
       "    </tr>\n",
       "    <tr>\n",
       "      <th>50%</th>\n",
       "      <td>32.000000</td>\n",
       "      <td>169.200000</td>\n",
       "      <td>67.400000</td>\n",
       "      <td>22.800000</td>\n",
       "      <td>79.000000</td>\n",
       "      <td>130.000000</td>\n",
       "      <td>37.900000</td>\n",
       "      <td>16.200000</td>\n",
       "      <td>41.000000</td>\n",
       "      <td>193.000000</td>\n",
       "    </tr>\n",
       "    <tr>\n",
       "      <th>75%</th>\n",
       "      <td>48.000000</td>\n",
       "      <td>174.800000</td>\n",
       "      <td>75.300000</td>\n",
       "      <td>28.000000</td>\n",
       "      <td>86.000000</td>\n",
       "      <td>141.000000</td>\n",
       "      <td>45.200000</td>\n",
       "      <td>20.700000</td>\n",
       "      <td>50.000000</td>\n",
       "      <td>221.000000</td>\n",
       "    </tr>\n",
       "    <tr>\n",
       "      <th>max</th>\n",
       "      <td>64.000000</td>\n",
       "      <td>193.800000</td>\n",
       "      <td>138.100000</td>\n",
       "      <td>78.400000</td>\n",
       "      <td>156.200000</td>\n",
       "      <td>201.000000</td>\n",
       "      <td>70.500000</td>\n",
       "      <td>213.000000</td>\n",
       "      <td>80.000000</td>\n",
       "      <td>303.000000</td>\n",
       "    </tr>\n",
       "  </tbody>\n",
       "</table>\n",
       "</div>"
      ],
      "text/plain": [
       "                age     height_cm     weight_kg    body fat_%     diastolic  \\\n",
       "count  13393.000000  13393.000000  13393.000000  13393.000000  13393.000000   \n",
       "mean      36.775106    168.559807     67.447316     23.240165     78.796842   \n",
       "std       13.625639      8.426583     11.949666      7.256844     10.742033   \n",
       "min       21.000000    125.000000     26.300000      3.000000      0.000000   \n",
       "25%       25.000000    162.400000     58.200000     18.000000     71.000000   \n",
       "50%       32.000000    169.200000     67.400000     22.800000     79.000000   \n",
       "75%       48.000000    174.800000     75.300000     28.000000     86.000000   \n",
       "max       64.000000    193.800000    138.100000     78.400000    156.200000   \n",
       "\n",
       "           systolic     gripForce  sit and bend forward_cm  sit-ups counts  \\\n",
       "count  13393.000000  13393.000000             13393.000000    13393.000000   \n",
       "mean     130.234817     36.963877                15.209268       39.771224   \n",
       "std       14.713954     10.624864                 8.456677       14.276698   \n",
       "min        0.000000      0.000000               -25.000000        0.000000   \n",
       "25%      120.000000     27.500000                10.900000       30.000000   \n",
       "50%      130.000000     37.900000                16.200000       41.000000   \n",
       "75%      141.000000     45.200000                20.700000       50.000000   \n",
       "max      201.000000     70.500000               213.000000       80.000000   \n",
       "\n",
       "       broad jump_cm  \n",
       "count   13393.000000  \n",
       "mean      190.129627  \n",
       "std        39.868000  \n",
       "min         0.000000  \n",
       "25%       162.000000  \n",
       "50%       193.000000  \n",
       "75%       221.000000  \n",
       "max       303.000000  "
      ]
     },
     "execution_count": 5,
     "metadata": {},
     "output_type": "execute_result"
    }
   ],
   "source": [
    "df.describe()"
   ]
  },
  {
   "cell_type": "code",
   "execution_count": 6,
   "id": "61bd3adb",
   "metadata": {
    "execution": {
     "iopub.execute_input": "2022-02-20T14:08:05.068033Z",
     "iopub.status.busy": "2022-02-20T14:08:05.067024Z",
     "iopub.status.idle": "2022-02-20T14:08:05.104107Z",
     "shell.execute_reply": "2022-02-20T14:08:05.104918Z",
     "shell.execute_reply.started": "2022-02-20T14:07:21.564201Z"
    },
    "papermill": {
     "duration": 0.075957,
     "end_time": "2022-02-20T14:08:05.105154",
     "exception": false,
     "start_time": "2022-02-20T14:08:05.029197",
     "status": "completed"
    },
    "tags": []
   },
   "outputs": [
    {
     "name": "stdout",
     "output_type": "stream",
     "text": [
      "Duplicated number: 1\n",
      "Duplicated number: 0\n"
     ]
    }
   ],
   "source": [
    "print(\"Duplicated number:\", sum(df.duplicated()))\n",
    "df = df.drop_duplicates()\n",
    "print(\"Duplicated number:\", sum(df.duplicated()))"
   ]
  },
  {
   "cell_type": "code",
   "execution_count": 7,
   "id": "5463b46f",
   "metadata": {
    "execution": {
     "iopub.execute_input": "2022-02-20T14:08:05.168218Z",
     "iopub.status.busy": "2022-02-20T14:08:05.167239Z",
     "iopub.status.idle": "2022-02-20T14:08:05.180888Z",
     "shell.execute_reply": "2022-02-20T14:08:05.180364Z",
     "shell.execute_reply.started": "2022-02-20T14:07:21.614627Z"
    },
    "papermill": {
     "duration": 0.046712,
     "end_time": "2022-02-20T14:08:05.181041",
     "exception": false,
     "start_time": "2022-02-20T14:08:05.134329",
     "status": "completed"
    },
    "tags": []
   },
   "outputs": [
    {
     "data": {
      "text/plain": [
       "class\n",
       "C        3349\n",
       "D        3349\n",
       "A        3347\n",
       "B        3347\n",
       "dtype: int64"
      ]
     },
     "execution_count": 7,
     "metadata": {},
     "output_type": "execute_result"
    }
   ],
   "source": [
    "X = df.drop([\"class\"], axis = 1)\n",
    "y = df [[\"class\"]]\n",
    "y.value_counts()"
   ]
  },
  {
   "cell_type": "code",
   "execution_count": 8,
   "id": "80f67f01",
   "metadata": {
    "execution": {
     "iopub.execute_input": "2022-02-20T14:08:05.247786Z",
     "iopub.status.busy": "2022-02-20T14:08:05.246727Z",
     "iopub.status.idle": "2022-02-20T14:08:05.443218Z",
     "shell.execute_reply": "2022-02-20T14:08:05.442674Z",
     "shell.execute_reply.started": "2022-02-20T14:07:21.634851Z"
    },
    "papermill": {
     "duration": 0.230895,
     "end_time": "2022-02-20T14:08:05.443365",
     "exception": false,
     "start_time": "2022-02-20T14:08:05.212470",
     "status": "completed"
    },
    "tags": []
   },
   "outputs": [
    {
     "data": {
      "image/png": "[encoded data removed]",
      "text/plain": [
       "<Figure size 432x288 with 1 Axes>"
      ]
     },
     "metadata": {
      "needs_background": "light"
     },
     "output_type": "display_data"
    }
   ],
   "source": [
    "sns.countplot(x = X[\"gender\"]);"
   ]
  },
  {
   "cell_type": "code",
   "execution_count": 9,
   "id": "f787ead4",
   "metadata": {
    "execution": {
     "iopub.execute_input": "2022-02-20T14:08:05.509607Z",
     "iopub.status.busy": "2022-02-20T14:08:05.508594Z",
     "iopub.status.idle": "2022-02-20T14:08:05.685033Z",
     "shell.execute_reply": "2022-02-20T14:08:05.685616Z",
     "shell.execute_reply.started": "2022-02-20T14:07:21.848858Z"
    },
    "papermill": {
     "duration": 0.212688,
     "end_time": "2022-02-20T14:08:05.685820",
     "exception": false,
     "start_time": "2022-02-20T14:08:05.473132",
     "status": "completed"
    },
    "tags": []
   },
   "outputs": [
    {
     "data": {
      "image/png": "[encoded data removed]",
      "text/plain": [
       "<Figure size 432x288 with 1 Axes>"
      ]
     },
     "metadata": {
      "needs_background": "light"
     },
     "output_type": "display_data"
    }
   ],
   "source": [
    "sns.countplot(x = y[\"class\"]);"
   ]
  },
  {
   "cell_type": "code",
   "execution_count": 10,
   "id": "1f57dbe2",
   "metadata": {
    "execution": {
     "iopub.execute_input": "2022-02-20T14:08:05.754429Z",
     "iopub.status.busy": "2022-02-20T14:08:05.753322Z",
     "iopub.status.idle": "2022-02-20T14:08:05.767638Z",
     "shell.execute_reply": "2022-02-20T14:08:05.766947Z",
     "shell.execute_reply.started": "2022-02-20T14:07:22.071115Z"
    },
    "papermill": {
     "duration": 0.050017,
     "end_time": "2022-02-20T14:08:05.767807",
     "exception": false,
     "start_time": "2022-02-20T14:08:05.717790",
     "status": "completed"
    },
    "tags": []
   },
   "outputs": [],
   "source": [
    "X = pd.get_dummies(X, columns = [\"gender\"])"
   ]
  },
  {
   "cell_type": "code",
   "execution_count": 11,
   "id": "d6e5d350",
   "metadata": {
    "execution": {
     "iopub.execute_input": "2022-02-20T14:08:05.842248Z",
     "iopub.status.busy": "2022-02-20T14:08:05.841078Z",
     "iopub.status.idle": "2022-02-20T14:08:06.802708Z",
     "shell.execute_reply": "2022-02-20T14:08:06.803235Z",
     "shell.execute_reply.started": "2022-02-20T14:07:22.084394Z"
    },
    "papermill": {
     "duration": 1.000718,
     "end_time": "2022-02-20T14:08:06.803409",
     "exception": false,
     "start_time": "2022-02-20T14:08:05.802691",
     "status": "completed"
    },
    "tags": []
   },
   "outputs": [
    {
     "data": {
      "image/png": "[encoded data removed]",
      "text/plain": [
       "<Figure size 1080x864 with 2 Axes>"
      ]
     },
     "metadata": {
      "needs_background": "light"
     },
     "output_type": "display_data"
    }
   ],
   "source": [
    "plt.figure(figsize=(15, 12))\n",
    "sns.heatmap(X.corr(), annot=True)\n",
    "plt.show()"
   ]
  },
  {
   "cell_type": "code",
   "execution_count": 12,
   "id": "30b03540",
   "metadata": {
    "execution": {
     "iopub.execute_input": "2022-02-20T14:08:06.882560Z",
     "iopub.status.busy": "2022-02-20T14:08:06.881504Z",
     "iopub.status.idle": "2022-02-20T14:08:06.888220Z",
     "shell.execute_reply": "2022-02-20T14:08:06.888982Z",
     "shell.execute_reply.started": "2022-02-20T14:07:23.023505Z"
    },
    "papermill": {
     "duration": 0.050385,
     "end_time": "2022-02-20T14:08:06.889174",
     "exception": false,
     "start_time": "2022-02-20T14:08:06.838789",
     "status": "completed"
    },
    "tags": []
   },
   "outputs": [],
   "source": [
    "X_train, X_test, y_train, y_test = train_test_split(X, y, test_size=0.2, random_state=0)"
   ]
  },
  {
   "cell_type": "code",
   "execution_count": 13,
   "id": "7702c948",
   "metadata": {
    "execution": {
     "iopub.execute_input": "2022-02-20T14:08:06.967250Z",
     "iopub.status.busy": "2022-02-20T14:08:06.966231Z",
     "iopub.status.idle": "2022-02-20T14:08:06.980706Z",
     "shell.execute_reply": "2022-02-20T14:08:06.981380Z",
     "shell.execute_reply.started": "2022-02-20T14:07:23.035006Z"
    },
    "papermill": {
     "duration": 0.055803,
     "end_time": "2022-02-20T14:08:06.981591",
     "exception": false,
     "start_time": "2022-02-20T14:08:06.925788",
     "status": "completed"
    },
    "tags": []
   },
   "outputs": [],
   "source": [
    "scaler = StandardScaler()\n",
    "\n",
    "X_train_scaled = scaler.fit_transform(X_train)\n",
    "X_test_scaled = scaler.transform(X_test)"
   ]
  },
  {
   "cell_type": "markdown",
   "id": "f1a36aee",
   "metadata": {
    "papermill": {
     "duration": 0.03651,
     "end_time": "2022-02-20T14:08:07.053210",
     "exception": false,
     "start_time": "2022-02-20T14:08:07.016700",
     "status": "completed"
    },
    "tags": []
   },
   "source": [
    "## **Logistic Regression**"
   ]
  },
  {
   "cell_type": "code",
   "execution_count": 14,
   "id": "3cce8c43",
   "metadata": {
    "execution": {
     "iopub.execute_input": "2022-02-20T14:08:07.138279Z",
     "iopub.status.busy": "2022-02-20T14:08:07.137510Z",
     "iopub.status.idle": "2022-02-20T14:08:07.580783Z",
     "shell.execute_reply": "2022-02-20T14:08:07.581774Z",
     "shell.execute_reply.started": "2022-02-20T14:07:23.054103Z"
    },
    "papermill": {
     "duration": 0.487833,
     "end_time": "2022-02-20T14:08:07.582583",
     "exception": false,
     "start_time": "2022-02-20T14:08:07.094750",
     "status": "completed"
    },
    "tags": []
   },
   "outputs": [
    {
     "data": {
      "text/plain": [
       "LogisticRegression(random_state=42)"
      ]
     },
     "execution_count": 14,
     "metadata": {},
     "output_type": "execute_result"
    }
   ],
   "source": [
    "log_reg = LogisticRegression(random_state = 42)\n",
    "log_reg.fit(X_train_scaled, y_train)"
   ]
  },
  {
   "cell_type": "code",
   "execution_count": 15,
   "id": "699b6d78",
   "metadata": {
    "execution": {
     "iopub.execute_input": "2022-02-20T14:08:07.712884Z",
     "iopub.status.busy": "2022-02-20T14:08:07.712177Z",
     "iopub.status.idle": "2022-02-20T14:08:07.733508Z",
     "shell.execute_reply": "2022-02-20T14:08:07.732366Z",
     "shell.execute_reply.started": "2022-02-20T14:07:23.588598Z"
    },
    "papermill": {
     "duration": 0.080668,
     "end_time": "2022-02-20T14:08:07.733771",
     "exception": false,
     "start_time": "2022-02-20T14:08:07.653103",
     "status": "completed"
    },
    "tags": []
   },
   "outputs": [
    {
     "name": "stdout",
     "output_type": "stream",
     "text": [
      "[[502 155  17   0]\n",
      " [159 300 196  24]\n",
      " [ 55 130 347 125]\n",
      " [ 10  28  97 534]]\n"
     ]
    }
   ],
   "source": [
    "print(confusion_matrix(y_test, log_reg.predict(X_test_scaled)))"
   ]
  },
  {
   "cell_type": "code",
   "execution_count": 16,
   "id": "0592c7c7",
   "metadata": {
    "execution": {
     "iopub.execute_input": "2022-02-20T14:08:07.816041Z",
     "iopub.status.busy": "2022-02-20T14:08:07.815313Z",
     "iopub.status.idle": "2022-02-20T14:08:07.928381Z",
     "shell.execute_reply": "2022-02-20T14:08:07.928946Z",
     "shell.execute_reply.started": "2022-02-20T14:07:23.628232Z"
    },
    "papermill": {
     "duration": 0.154036,
     "end_time": "2022-02-20T14:08:07.929129",
     "exception": false,
     "start_time": "2022-02-20T14:08:07.775093",
     "status": "completed"
    },
    "tags": []
   },
   "outputs": [
    {
     "name": "stdout",
     "output_type": "stream",
     "text": [
      "              precision    recall  f1-score   support\n",
      "\n",
      "           A       0.69      0.74      0.72       674\n",
      "           B       0.49      0.44      0.46       679\n",
      "           C       0.53      0.53      0.53       657\n",
      "           D       0.78      0.80      0.79       669\n",
      "\n",
      "    accuracy                           0.63      2679\n",
      "   macro avg       0.62      0.63      0.62      2679\n",
      "weighted avg       0.62      0.63      0.62      2679\n",
      "\n"
     ]
    }
   ],
   "source": [
    "print(classification_report(y_test, log_reg.predict(X_test_scaled)))"
   ]
  },
  {
   "cell_type": "markdown",
   "id": "682e3585",
   "metadata": {
    "papermill": {
     "duration": 0.0349,
     "end_time": "2022-02-20T14:08:08.000204",
     "exception": false,
     "start_time": "2022-02-20T14:08:07.965304",
     "status": "completed"
    },
    "tags": []
   },
   "source": [
    "## **DecisionTreeClassifier**"
   ]
  },
  {
   "cell_type": "code",
   "execution_count": 17,
   "id": "33a06bbc",
   "metadata": {
    "execution": {
     "iopub.execute_input": "2022-02-20T14:08:08.077135Z",
     "iopub.status.busy": "2022-02-20T14:08:08.076080Z",
     "iopub.status.idle": "2022-02-20T14:08:08.200254Z",
     "shell.execute_reply": "2022-02-20T14:08:08.199599Z",
     "shell.execute_reply.started": "2022-02-20T14:07:23.772848Z"
    },
    "papermill": {
     "duration": 0.16311,
     "end_time": "2022-02-20T14:08:08.200423",
     "exception": false,
     "start_time": "2022-02-20T14:08:08.037313",
     "status": "completed"
    },
    "tags": []
   },
   "outputs": [
    {
     "data": {
      "text/plain": [
       "DecisionTreeClassifier(random_state=42)"
      ]
     },
     "execution_count": 17,
     "metadata": {},
     "output_type": "execute_result"
    }
   ],
   "source": [
    "dt = DecisionTreeClassifier(random_state = 42)\n",
    "dt.fit(X_train_scaled, y_train)"
   ]
  },
  {
   "cell_type": "code",
   "execution_count": 18,
   "id": "200a79de",
   "metadata": {
    "execution": {
     "iopub.execute_input": "2022-02-20T14:08:08.279911Z",
     "iopub.status.busy": "2022-02-20T14:08:08.279171Z",
     "iopub.status.idle": "2022-02-20T14:08:08.297258Z",
     "shell.execute_reply": "2022-02-20T14:08:08.297894Z",
     "shell.execute_reply.started": "2022-02-20T14:07:23.897429Z"
    },
    "papermill": {
     "duration": 0.061066,
     "end_time": "2022-02-20T14:08:08.298208",
     "exception": false,
     "start_time": "2022-02-20T14:08:08.237142",
     "status": "completed"
    },
    "tags": []
   },
   "outputs": [
    {
     "name": "stdout",
     "output_type": "stream",
     "text": [
      "[[444 147  65  18]\n",
      " [135 341 159  44]\n",
      " [ 51 129 382  95]\n",
      " [ 14  49  81 525]]\n"
     ]
    }
   ],
   "source": [
    "print(confusion_matrix(y_test, dt.predict(X_test_scaled)))"
   ]
  },
  {
   "cell_type": "code",
   "execution_count": 19,
   "id": "9ece7c44",
   "metadata": {
    "execution": {
     "iopub.execute_input": "2022-02-20T14:08:08.374607Z",
     "iopub.status.busy": "2022-02-20T14:08:08.373897Z",
     "iopub.status.idle": "2022-02-20T14:08:08.490559Z",
     "shell.execute_reply": "2022-02-20T14:08:08.491393Z",
     "shell.execute_reply.started": "2022-02-20T14:07:23.920980Z"
    },
    "papermill": {
     "duration": 0.156384,
     "end_time": "2022-02-20T14:08:08.491666",
     "exception": false,
     "start_time": "2022-02-20T14:08:08.335282",
     "status": "completed"
    },
    "tags": []
   },
   "outputs": [
    {
     "name": "stdout",
     "output_type": "stream",
     "text": [
      "              precision    recall  f1-score   support\n",
      "\n",
      "           A       0.69      0.66      0.67       674\n",
      "           B       0.51      0.50      0.51       679\n",
      "           C       0.56      0.58      0.57       657\n",
      "           D       0.77      0.78      0.78       669\n",
      "\n",
      "    accuracy                           0.63      2679\n",
      "   macro avg       0.63      0.63      0.63      2679\n",
      "weighted avg       0.63      0.63      0.63      2679\n",
      "\n"
     ]
    }
   ],
   "source": [
    "print(classification_report(y_test, dt.predict(X_test_scaled)))"
   ]
  },
  {
   "cell_type": "markdown",
   "id": "7799c6d5",
   "metadata": {
    "papermill": {
     "duration": 0.036351,
     "end_time": "2022-02-20T14:08:08.566304",
     "exception": false,
     "start_time": "2022-02-20T14:08:08.529953",
     "status": "completed"
    },
    "tags": []
   },
   "source": [
    "## **RandomForestClassifier**"
   ]
  },
  {
   "cell_type": "code",
   "execution_count": 20,
   "id": "3d017121",
   "metadata": {
    "execution": {
     "iopub.execute_input": "2022-02-20T14:08:08.646028Z",
     "iopub.status.busy": "2022-02-20T14:08:08.645133Z",
     "iopub.status.idle": "2022-02-20T14:08:10.924207Z",
     "shell.execute_reply": "2022-02-20T14:08:10.923633Z",
     "shell.execute_reply.started": "2022-02-20T14:07:24.036957Z"
    },
    "papermill": {
     "duration": 2.32008,
     "end_time": "2022-02-20T14:08:10.924369",
     "exception": false,
     "start_time": "2022-02-20T14:08:08.604289",
     "status": "completed"
    },
    "tags": []
   },
   "outputs": [
    {
     "data": {
      "text/plain": [
       "RandomForestClassifier(random_state=42)"
      ]
     },
     "execution_count": 20,
     "metadata": {},
     "output_type": "execute_result"
    }
   ],
   "source": [
    "rf = RandomForestClassifier(random_state = 42)\n",
    "rf.fit(X_train_scaled, y_train)"
   ]
  },
  {
   "cell_type": "code",
   "execution_count": 21,
   "id": "8244a67b",
   "metadata": {
    "execution": {
     "iopub.execute_input": "2022-02-20T14:08:11.009398Z",
     "iopub.status.busy": "2022-02-20T14:08:11.008632Z",
     "iopub.status.idle": "2022-02-20T14:08:11.107251Z",
     "shell.execute_reply": "2022-02-20T14:08:11.107820Z",
     "shell.execute_reply.started": "2022-02-20T14:07:26.291295Z"
    },
    "papermill": {
     "duration": 0.141377,
     "end_time": "2022-02-20T14:08:11.108007",
     "exception": false,
     "start_time": "2022-02-20T14:08:10.966630",
     "status": "completed"
    },
    "tags": []
   },
   "outputs": [
    {
     "name": "stdout",
     "output_type": "stream",
     "text": [
      "[[569  97   5   3]\n",
      " [156 395 100  28]\n",
      " [ 53 121 437  46]\n",
      " [  9  36  80 544]]\n"
     ]
    }
   ],
   "source": [
    "print(confusion_matrix(y_test, rf.predict(X_test_scaled)))"
   ]
  },
  {
   "cell_type": "code",
   "execution_count": 22,
   "id": "3c6e84fe",
   "metadata": {
    "execution": {
     "iopub.execute_input": "2022-02-20T14:08:11.193977Z",
     "iopub.status.busy": "2022-02-20T14:08:11.193104Z",
     "iopub.status.idle": "2022-02-20T14:08:11.383905Z",
     "shell.execute_reply": "2022-02-20T14:08:11.382602Z",
     "shell.execute_reply.started": "2022-02-20T14:07:26.391473Z"
    },
    "papermill": {
     "duration": 0.235992,
     "end_time": "2022-02-20T14:08:11.384160",
     "exception": false,
     "start_time": "2022-02-20T14:08:11.148168",
     "status": "completed"
    },
    "tags": []
   },
   "outputs": [
    {
     "name": "stdout",
     "output_type": "stream",
     "text": [
      "              precision    recall  f1-score   support\n",
      "\n",
      "           A       0.72      0.84      0.78       674\n",
      "           B       0.61      0.58      0.59       679\n",
      "           C       0.70      0.67      0.68       657\n",
      "           D       0.88      0.81      0.84       669\n",
      "\n",
      "    accuracy                           0.73      2679\n",
      "   macro avg       0.73      0.73      0.73      2679\n",
      "weighted avg       0.73      0.73      0.72      2679\n",
      "\n"
     ]
    }
   ],
   "source": [
    "print(classification_report(y_test, rf.predict(X_test_scaled)))"
   ]
  },
  {
   "cell_type": "code",
   "execution_count": 23,
   "id": "4ca49461",
   "metadata": {
    "execution": {
     "iopub.execute_input": "2022-02-20T14:08:11.465553Z",
     "iopub.status.busy": "2022-02-20T14:08:11.464581Z",
     "iopub.status.idle": "2022-02-20T14:08:11.751658Z",
     "shell.execute_reply": "2022-02-20T14:08:11.750376Z",
     "shell.execute_reply.started": "2022-02-20T14:07:26.583725Z"
    },
    "papermill": {
     "duration": 0.32866,
     "end_time": "2022-02-20T14:08:11.751816",
     "exception": false,
     "start_time": "2022-02-20T14:08:11.423156",
     "status": "completed"
    },
    "tags": []
   },
   "outputs": [
    {
     "data": {
      "image/png": "[encoded data removed]",
      "text/plain": [
       "<Figure size 720x504 with 1 Axes>"
      ]
     },
     "metadata": {
      "needs_background": "light"
     },
     "output_type": "display_data"
    }
   ],
   "source": [
    "plt.figure(figsize=(10, 7))\n",
    "sns.barplot(y=X_train.columns, x=rf.feature_importances_, )\n",
    "plt.title(\"Feature Importance\")\n",
    "plt.show()"
   ]
  }
 ],
 "metadata": {
  "kernelspec": {
   "display_name": "Python 3",
   "language": "python",
   "name": "python3"
  },
  "language_info": {
   "codemirror_mode": {
    "name": "ipython",
    "version": 3
   },
   "file_extension": ".py",
   "mimetype": "text/x-python",
   "name": "python",
   "nbconvert_exporter": "python",
   "pygments_lexer": "ipython3",
   "version": "3.7.12"
  },
  "papermill": {
   "default_parameters": {},
   "duration": 21.538808,
   "end_time": "2022-02-20T14:08:12.602362",
   "environment_variables": {},
   "exception": null,
   "input_path": "__notebook__.ipynb",
   "output_path": "__notebook__.ipynb",
   "parameters": {},
   "start_time": "2022-02-20T14:07:51.063554",
   "version": "2.3.3"
  }
 },
 "nbformat": 4,
 "nbformat_minor": 5
}
