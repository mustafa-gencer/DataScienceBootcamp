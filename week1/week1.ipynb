{
 "cells": [
  {
   "cell_type": "code",
   "execution_count": 123,
   "metadata": {},
   "outputs": [],
   "source": [
    "# Import libraries\n",
    "import pandas as pd\n",
    "import numpy as np\n",
    "import matplotlib.pyplot as plt\n",
    "%matplotlib inline \n",
    "import seaborn as sns\n",
    "from collections import Counter"
   ]
  },
  {
   "cell_type": "code",
   "execution_count": 124,
   "metadata": {},
   "outputs": [],
   "source": [
    "class DataOperations():\n",
    "    '''\n",
    "    DataOperations Class read and analyze the given data\n",
    "\n",
    "    Parameters : \n",
    "    data : default = []\n",
    "    Data path or data itself. It can be pandas DataFrame or numpy array or a string for the data path.\n",
    "\n",
    "    '''\n",
    "\n",
    "    def __init__(self, data=[]):\n",
    "        self.data = data\n",
    "    \n",
    "        def read_data():\n",
    "            '''\n",
    "\n",
    "            Read the data and return as a pandas DataFrame. Check the data types if data is not given generate random data. \n",
    "            If data is string and data is csv or json then read as pandas dataframe.\n",
    "            If data is numpy array then read as pandas dataframe.\n",
    "\n",
    "            '''\n",
    "            # If data is not given, define limits of the random data\n",
    "            DATA_COUNT = 50\n",
    "            MIN_POINT = 0\n",
    "            MAX_POINT = 100\n",
    "\n",
    "            # If the data is not given create a random data\n",
    "            if isinstance(self.data, list) and len(self.data) == 0:\n",
    "                self.data = np.random.randint(MIN_POINT, MAX_POINT, size = DATA_COUNT)\n",
    "                self.data = pd.DataFrame(self.data)\n",
    "\n",
    "            # if data type numpy array convert it to pandas dataframe\n",
    "            elif isinstance(self.data, np.ndarray):\n",
    "                self.data = pd.DataFrame(self.data)\n",
    "\n",
    "            # else if the given data is string read as pandas dataframe\n",
    "            elif isinstance(self.data, str):\n",
    "\n",
    "                # if data is csv, read with pandas.read_csv \n",
    "                if self.data.endswith(\".csv\"): \n",
    "                    try:\n",
    "                        self.data = pd.read_csv(self.data)\n",
    "                    except:\n",
    "                        print(\"Data could not read\")\n",
    "                \n",
    "                # else if data is json, read with pandas.read_json\n",
    "                elif self.data.endswith(\"json\"):\n",
    "                    try:\n",
    "                        self.data = pd.read_json(self.data)\n",
    "                    except:\n",
    "                        print(\"Data could not read\")\n",
    "\n",
    "            # else if data type is pandas dataframe do nothing\n",
    "            elif isinstance(self.data, pd.DataFrame):\n",
    "                pass\n",
    "            \n",
    "            # if the data type is not numpy array, pandas dataframe, csv or json raise exception\n",
    "            else:\n",
    "                raise Exception(\"Undefined Data Type\")\n",
    "        \n",
    "        read_data()\n",
    "\n",
    "    def analyze_data(self):\n",
    "\n",
    "        '''\n",
    "\n",
    "        Print out the data information and data statistics.\n",
    "        Draw scatter plots for numerical data and bar plots for categorical data.\n",
    "        \n",
    "        '''\n",
    "        # Print the data informations such as standard deviation, mean or nan values\n",
    "        print(\"Data\\n\", self.data.head(), \"\\n\")\n",
    "        print(\"Data Info\\n\", self.data.info(), \"\\n\")\n",
    "        print(\"Data Describe\\n\", self.data.describe())\n",
    "        \n",
    "        # Define numeric and categoric columns\n",
    "        numeric_data = self.data.select_dtypes(exclude = ['object'])\n",
    "        categoric_data = self.data.select_dtypes(include =['object'])\n",
    "        num_cols = list(numeric_data.columns)\n",
    "        cat_cols = list(categoric_data.columns)\n",
    "\n",
    "        # Plot scatter graphs for numeric columns\n",
    "        for idx, col in enumerate(num_cols):\n",
    "            try:\n",
    "                plt.scatter(numeric_data.loc[:,num_cols[idx]], numeric_data.loc[:,num_cols[idx+1]])\n",
    "                plt.title(f\"{num_cols[idx]} vs {num_cols[idx+1]} Scatter Plot\")\n",
    "                plt.show()\n",
    "            except:\n",
    "                pass\n",
    "       \n",
    "       # Plot Bar graphs for columns which are including string values (first 5 value)\n",
    "        for col in cat_cols:\n",
    "            categoric_data[col].value_counts()[:5].plot(kind='barh', title = col + \" Bar plot\")\n",
    "            "
   ]
  },
  {
   "cell_type": "code",
   "execution_count": 125,
   "metadata": {},
   "outputs": [],
   "source": [
    "# dictionary of lists\n",
    "dict = {'name':[\"A\",\"B\",\"C\",\"D\",\"A\",\"D\",\"E\",\"B\",\"G\",\"G\",\"G\",\"T\"],\n",
    "        'degree': [1,2,3,4,1,2,3,4,1,2,3,4],\n",
    "        'class': [7,8,9,10,7,8,9,10,7,8,9,10],\n",
    "        'score':[90, 40, 80, 98,90, 40, 80, 98,90, 40, 80, 98]}\n",
    "\n",
    "# Sample pandas data\n",
    "#data = pd.DataFrame(dict)"
   ]
  },
  {
   "cell_type": "code",
   "execution_count": 126,
   "metadata": {},
   "outputs": [],
   "source": [
    "# sample numpy data\n",
    "data = np.array([[ 78,  23,  41,  66],\n",
    "              [ 109,  167,  41,  28],\n",
    "              [ 187, 22, 76, 88]])"
   ]
  },
  {
   "cell_type": "code",
   "execution_count": 127,
   "metadata": {},
   "outputs": [],
   "source": [
    "# sample string for csv\n",
    "#data = r\"WineQT.csv\""
   ]
  },
  {
   "cell_type": "code",
   "execution_count": 128,
   "metadata": {},
   "outputs": [],
   "source": [
    "# sample string for json data\n",
    "#data = r\"iris.json\""
   ]
  },
  {
   "cell_type": "code",
   "execution_count": 129,
   "metadata": {},
   "outputs": [
    {
     "name": "stdout",
     "output_type": "stream",
     "text": [
      "Data\n",
      "      0    1   2   3\n",
      "0   78   23  41  66\n",
      "1  109  167  41  28\n",
      "2  187   22  76  88 \n",
      "\n",
      "<class 'pandas.core.frame.DataFrame'>\n",
      "RangeIndex: 3 entries, 0 to 2\n",
      "Data columns (total 4 columns):\n",
      " #   Column  Non-Null Count  Dtype\n",
      "---  ------  --------------  -----\n",
      " 0   0       3 non-null      int32\n",
      " 1   1       3 non-null      int32\n",
      " 2   2       3 non-null      int32\n",
      " 3   3       3 non-null      int32\n",
      "dtypes: int32(4)\n",
      "memory usage: 176.0 bytes\n",
      "Data Info\n",
      " None \n",
      "\n",
      "Data Describe\n",
      "                 0           1          2          3\n",
      "count    3.000000    3.000000   3.000000   3.000000\n",
      "mean   124.666667   70.666667  52.666667  60.666667\n",
      "std     56.163452   83.428612  20.207259  30.353473\n",
      "min     78.000000   22.000000  41.000000  28.000000\n",
      "25%     93.500000   22.500000  41.000000  47.000000\n",
      "50%    109.000000   23.000000  41.000000  66.000000\n",
      "75%    148.000000   95.000000  58.500000  77.000000\n",
      "max    187.000000  167.000000  76.000000  88.000000\n"
     ]
    },
    {
     "data": {
      "image/png": "[encoded data removed]",
      "text/plain": [
       "<Figure size 432x288 with 1 Axes>"
      ]
     },
     "metadata": {
      "needs_background": "light"
     },
     "output_type": "display_data"
    },
    {
     "data": {
      "image/png": "[encoded data removed]",
      "text/plain": [
       "<Figure size 432x288 with 1 Axes>"
      ]
     },
     "metadata": {
      "needs_background": "light"
     },
     "output_type": "display_data"
    },
    {
     "data": {
      "image/png": "[encoded data removed]",
      "text/plain": [
       "<Figure size 432x288 with 1 Axes>"
      ]
     },
     "metadata": {
      "needs_background": "light"
     },
     "output_type": "display_data"
    }
   ],
   "source": [
    "data_op = DataOperations(data)\n",
    "data_op.analyze_data()"
   ]
  }
 ],
 "metadata": {
  "interpreter": {
   "hash": "cef9e06bb236b2a8629b07e87a04b187b952a0f661eff5533360a155783f0c33"
  },
  "kernelspec": {
   "display_name": "Python 3.7.7 ('base')",
   "language": "python",
   "name": "python3"
  },
  "language_info": {
   "codemirror_mode": {
    "name": "ipython",
    "version": 3
   },
   "file_extension": ".py",
   "mimetype": "text/x-python",
   "name": "python",
   "nbconvert_exporter": "python",
   "pygments_lexer": "ipython3",
   "version": "3.7.7"
  },
  "orig_nbformat": 4
 },
 "nbformat": 4,
 "nbformat_minor": 2
}
