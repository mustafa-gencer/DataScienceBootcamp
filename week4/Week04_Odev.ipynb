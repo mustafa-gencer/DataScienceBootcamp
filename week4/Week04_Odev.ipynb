{
 "cells": [
  {
   "cell_type": "markdown",
   "metadata": {
    "collapsed": true,
    "pycharm": {
     "name": "#%% md\n"
    }
   },
   "source": [
    "# ÖDEV 1: PCA yardımı ile Classification,\n",
    "\n",
    "Bu ödevde \"Credit Risk Prediction\" veri setini kullanacağız. Amacımız, verinin boyut sayısını düşürerek olabildiğince yüksek accuracy değerini alabilmek. Aşağıda verinin okunma ve temizlenme kısmını hazırlayıp vereceğim. Devamında ise yapmanız gerekenler:\n",
    "\n",
    "1. PCA kullanarak verinin boyutunu düşürmek\n",
    "    * Önce explained varience ratio değerini inceleyerek veriyi kaç boyuta düşürebileceğini kontrol et.\n",
    "    * Daha sonra farklı boyutlarda denemeler yaparak boyutu düşürülmüş verileri elde et.\n",
    "2. Classification modellerini dene\n",
    "    * Logistic Regression\n",
    "    * Random Forest\n",
    "    * ve eğer istersen herhangi bir modelle daha\n",
    "\n",
    "İsteğe bağlı olarak, verinin boyutunu düşürmek için diğer yöntemleri de kullanıp en yüksek accuracy değerini almayı deneyebilirsin."
   ]
  },
  {
   "cell_type": "code",
   "execution_count": 606,
   "outputs": [],
   "source": [
    "import pandas as pd\n",
    "import numpy as np\n",
    "import matplotlib.pyplot as plt\n",
    "from sklearn.decomposition import PCA\n",
    "\n",
    "import matplotlib.pyplot as plt\n",
    "import seaborn as sns\n",
    "import warnings\n",
    "warnings.filterwarnings(\"ignore\")\n",
    "\n",
    "from sklearn.preprocessing import StandardScaler\n",
    "from sklearn.preprocessing import MinMaxScaler\n",
    "from sklearn.linear_model import LogisticRegression\n",
    "from sklearn.tree import DecisionTreeClassifier\n",
    "from sklearn.ensemble import RandomForestClassifier\n",
    "from sklearn.model_selection import GridSearchCV, RandomizedSearchCV\n",
    "from sklearn.metrics import confusion_matrix, classification_report"
   ],
   "metadata": {
    "collapsed": false,
    "pycharm": {
     "name": "#%%\n"
    }
   }
  },
  {
   "cell_type": "code",
   "execution_count": 607,
   "outputs": [],
   "source": [
    "df: pd.DataFrame = pd.read_csv('./credit_risk_dataset.csv')"
   ],
   "metadata": {
    "collapsed": false,
    "pycharm": {
     "name": "#%%\n"
    }
   }
  },
  {
   "cell_type": "code",
   "execution_count": 608,
   "outputs": [
    {
     "name": "stdout",
     "output_type": "stream",
     "text": [
      "person_age                       0\n",
      "person_income                    0\n",
      "person_home_ownership            0\n",
      "person_emp_length              895\n",
      "loan_intent                      0\n",
      "loan_grade                       0\n",
      "loan_amnt                        0\n",
      "loan_int_rate                 3116\n",
      "loan_status                      0\n",
      "loan_percent_income              0\n",
      "cb_person_default_on_file        0\n",
      "cb_person_cred_hist_length       0\n",
      "dtype: int64\n"
     ]
    }
   ],
   "source": [
    "print(df.isnull().sum())"
   ],
   "metadata": {
    "collapsed": false,
    "pycharm": {
     "name": "#%%\n"
    }
   }
  },
  {
   "cell_type": "code",
   "execution_count": 609,
   "outputs": [],
   "source": [
    "# Null değerleri sütun ortalaması ile dolduruyoruz\n",
    "df[\"person_emp_length\"].fillna(df[\"person_emp_length\"].median(), inplace=True)\n",
    "df[\"loan_int_rate\"].fillna(df[\"loan_int_rate\"].median(), inplace=True)"
   ],
   "metadata": {
    "collapsed": false,
    "pycharm": {
     "name": "#%%\n"
    }
   }
  },
  {
   "cell_type": "code",
   "execution_count": 610,
   "outputs": [
    {
     "data": {
      "text/plain": "165"
     },
     "execution_count": 610,
     "metadata": {},
     "output_type": "execute_result"
    }
   ],
   "source": [
    "df.duplicated().sum()"
   ],
   "metadata": {
    "collapsed": false,
    "pycharm": {
     "name": "#%%\n"
    }
   }
  },
  {
   "cell_type": "code",
   "execution_count": 611,
   "outputs": [],
   "source": [
    "df.drop_duplicates(inplace=True)"
   ],
   "metadata": {
    "collapsed": false,
    "pycharm": {
     "name": "#%%\n"
    }
   }
  },
  {
   "cell_type": "code",
   "execution_count": 612,
   "outputs": [
    {
     "data": {
      "text/plain": "(32416, 12)"
     },
     "execution_count": 612,
     "metadata": {},
     "output_type": "execute_result"
    }
   ],
   "source": [
    "df.shape"
   ],
   "metadata": {
    "collapsed": false,
    "pycharm": {
     "name": "#%%\n"
    }
   }
  },
  {
   "cell_type": "code",
   "execution_count": 613,
   "outputs": [
    {
     "data": {
      "text/plain": "                              count          mean           std      min       25%       50%       75%         max\nperson_age                  32416.0     27.747008      6.354100    20.00     23.00     26.00     30.00      144.00\nperson_income               32416.0  66091.640826  62015.580269  4000.00  38542.00  55000.00  79218.00  6000000.00\nperson_emp_length           32416.0      4.768880      4.090411     0.00      2.00      4.00      7.00      123.00\nloan_amnt                   32416.0   9593.845632   6322.730241   500.00   5000.00   8000.00  12250.00    35000.00\nloan_int_rate               32416.0     11.014662      3.083050     5.42      8.49     10.99     13.11       23.22\nloan_status                 32416.0      0.218688      0.413363     0.00      0.00      0.00      0.00        1.00\nloan_percent_income         32416.0      0.170250      0.106812     0.00      0.09      0.15      0.23        0.83\ncb_person_cred_hist_length  32416.0      5.811297      4.059030     2.00      3.00      4.00      8.00       30.00",
      "text/html": "<div>\n<style scoped>\n    .dataframe tbody tr th:only-of-type {\n        vertical-align: middle;\n    }\n\n    .dataframe tbody tr th {\n        vertical-align: top;\n    }\n\n    .dataframe thead th {\n        text-align: right;\n    }\n</style>\n<table border=\"1\" class=\"dataframe\">\n  <thead>\n    <tr style=\"text-align: right;\">\n      <th></th>\n      <th>count</th>\n      <th>mean</th>\n      <th>std</th>\n      <th>min</th>\n      <th>25%</th>\n      <th>50%</th>\n      <th>75%</th>\n      <th>max</th>\n    </tr>\n  </thead>\n  <tbody>\n    <tr>\n      <th>person_age</th>\n      <td>32416.0</td>\n      <td>27.747008</td>\n      <td>6.354100</td>\n      <td>20.00</td>\n      <td>23.00</td>\n      <td>26.00</td>\n      <td>30.00</td>\n      <td>144.00</td>\n    </tr>\n    <tr>\n      <th>person_income</th>\n      <td>32416.0</td>\n      <td>66091.640826</td>\n      <td>62015.580269</td>\n      <td>4000.00</td>\n      <td>38542.00</td>\n      <td>55000.00</td>\n      <td>79218.00</td>\n      <td>6000000.00</td>\n    </tr>\n    <tr>\n      <th>person_emp_length</th>\n      <td>32416.0</td>\n      <td>4.768880</td>\n      <td>4.090411</td>\n      <td>0.00</td>\n      <td>2.00</td>\n      <td>4.00</td>\n      <td>7.00</td>\n      <td>123.00</td>\n    </tr>\n    <tr>\n      <th>loan_amnt</th>\n      <td>32416.0</td>\n      <td>9593.845632</td>\n      <td>6322.730241</td>\n      <td>500.00</td>\n      <td>5000.00</td>\n      <td>8000.00</td>\n      <td>12250.00</td>\n      <td>35000.00</td>\n    </tr>\n    <tr>\n      <th>loan_int_rate</th>\n      <td>32416.0</td>\n      <td>11.014662</td>\n      <td>3.083050</td>\n      <td>5.42</td>\n      <td>8.49</td>\n      <td>10.99</td>\n      <td>13.11</td>\n      <td>23.22</td>\n    </tr>\n    <tr>\n      <th>loan_status</th>\n      <td>32416.0</td>\n      <td>0.218688</td>\n      <td>0.413363</td>\n      <td>0.00</td>\n      <td>0.00</td>\n      <td>0.00</td>\n      <td>0.00</td>\n      <td>1.00</td>\n    </tr>\n    <tr>\n      <th>loan_percent_income</th>\n      <td>32416.0</td>\n      <td>0.170250</td>\n      <td>0.106812</td>\n      <td>0.00</td>\n      <td>0.09</td>\n      <td>0.15</td>\n      <td>0.23</td>\n      <td>0.83</td>\n    </tr>\n    <tr>\n      <th>cb_person_cred_hist_length</th>\n      <td>32416.0</td>\n      <td>5.811297</td>\n      <td>4.059030</td>\n      <td>2.00</td>\n      <td>3.00</td>\n      <td>4.00</td>\n      <td>8.00</td>\n      <td>30.00</td>\n    </tr>\n  </tbody>\n</table>\n</div>"
     },
     "execution_count": 613,
     "metadata": {},
     "output_type": "execute_result"
    }
   ],
   "source": [
    "df.describe().T"
   ],
   "metadata": {
    "collapsed": false,
    "pycharm": {
     "name": "#%%\n"
    }
   }
  },
  {
   "cell_type": "code",
   "execution_count": 614,
   "outputs": [],
   "source": [
    "# Outlier temizliği\n",
    "df = df[df['person_age']<=100]\n",
    "df = df[df['person_emp_length'] <= 60]\n",
    "df = df[df['person_income']<=4e6]"
   ],
   "metadata": {
    "collapsed": false,
    "pycharm": {
     "name": "#%%\n"
    }
   }
  },
  {
   "cell_type": "code",
   "execution_count": 615,
   "outputs": [
    {
     "data": {
      "text/plain": "Index(['person_home_ownership', 'loan_intent', 'loan_grade', 'cb_person_default_on_file'], dtype='object')"
     },
     "execution_count": 615,
     "metadata": {},
     "output_type": "execute_result"
    }
   ],
   "source": [
    "# Kategorik verileri alıyoruz ve one hot encoding haline getiriyoruz\n",
    "cat_cols = pd.DataFrame(df[df.select_dtypes(include=['object']).columns])\n",
    "cat_cols.columns"
   ],
   "metadata": {
    "collapsed": false,
    "pycharm": {
     "name": "#%%\n"
    }
   }
  },
  {
   "cell_type": "code",
   "execution_count": 616,
   "outputs": [],
   "source": [
    "encoded_cat_cols = pd.get_dummies(cat_cols)\n",
    "df.drop(df.select_dtypes(include=['object']).columns, axis=1,inplace=True)\n",
    "df = pd.concat([df,encoded_cat_cols], axis=1)"
   ],
   "metadata": {
    "collapsed": false,
    "pycharm": {
     "name": "#%%\n"
    }
   }
  },
  {
   "cell_type": "code",
   "execution_count": 617,
   "outputs": [],
   "source": [
    "X = df.drop('loan_status', axis=1).values\n",
    "y = df['loan_status'].values"
   ],
   "metadata": {
    "collapsed": false,
    "pycharm": {
     "name": "#%%\n"
    }
   }
  },
  {
   "cell_type": "code",
   "execution_count": 618,
   "outputs": [
    {
     "name": "stdout",
     "output_type": "stream",
     "text": [
      "Best dimension number is 21\n"
     ]
    }
   ],
   "source": [
    "error = []\n",
    "for i in range(1,26):\n",
    "    pca = PCA(n_components=i)\n",
    "    pca.fit_transform(X)\n",
    "    error.append(1 - np.sum(pca.explained_variance_ratio_))\n",
    "best_pca_dim = error.index(min(error))\n",
    "print(f\"Best dimension number is {best_pca_dim}\", )\n",
    "pca = PCA(n_components = best_pca_dim)\n",
    "X_pca_best = pd.DataFrame(pca.fit_transform(X))"
   ],
   "metadata": {
    "collapsed": false,
    "pycharm": {
     "name": "#%%\n"
    }
   }
  },
  {
   "cell_type": "code",
   "execution_count": 619,
   "outputs": [
    {
     "data": {
      "text/plain": "[0.012827621799866629,\n 2.8997998335889008e-08,\n 1.0507185677077757e-08,\n 5.1205306661472605e-09,\n 1.7522995277019504e-09,\n 7.603012663892628e-10,\n 6.150032705320996e-10,\n 4.884235238478141e-10,\n 4.1968417630044996e-10,\n 3.516545943327287e-10,\n 2.867506232462347e-10,\n 2.2465795890269646e-10,\n 1.65465641188689e-10,\n 1.1492240492572137e-10,\n 7.314471250907673e-11,\n 3.604572196280742e-11,\n 1.4632850486862026e-11,\n 6.702638444266995e-12,\n 3.962830064097034e-12,\n 2.3248070135650778e-12,\n 7.781553179597722e-13,\n -2.220446049250313e-16,\n -2.220446049250313e-16,\n -2.220446049250313e-16,\n -2.220446049250313e-16]"
     },
     "execution_count": 619,
     "metadata": {},
     "output_type": "execute_result"
    }
   ],
   "source": [
    "error"
   ],
   "metadata": {
    "collapsed": false,
    "pycharm": {
     "name": "#%%\n"
    }
   }
  },
  {
   "cell_type": "code",
   "execution_count": 620,
   "outputs": [
    {
     "name": "stdout",
     "output_type": "stream",
     "text": [
      "2 dimension is explain data more than %99 variation\n"
     ]
    }
   ],
   "source": [
    "pca = PCA(n_components=0.99)\n",
    "X_pca = pca.fit_transform(X)\n",
    "print(f\"{pca.components_.shape[0]} dimension is explain data more than %99 variation\")"
   ],
   "metadata": {
    "collapsed": false,
    "pycharm": {
     "name": "#%%\n"
    }
   }
  },
  {
   "cell_type": "code",
   "execution_count": 621,
   "outputs": [],
   "source": [
    "# Verileri train ve test olarak ikiye ayırıyoruz\n",
    "\n",
    "from sklearn.model_selection import StratifiedShuffleSplit\n",
    "\n",
    "split = StratifiedShuffleSplit(1, test_size=0.1)\n",
    "train_idx, test_idx = next(split.split(X_pca_best, y))\n",
    "x_train = X[train_idx]\n",
    "x_test = X[test_idx]\n",
    "\n",
    "y_train = y[train_idx]\n",
    "y_test = y[test_idx]"
   ],
   "metadata": {
    "collapsed": false,
    "pycharm": {
     "name": "#%%\n"
    }
   }
  },
  {
   "cell_type": "code",
   "execution_count": 622,
   "outputs": [],
   "source": [
    "scaler = StandardScaler()\n",
    "\n",
    "X_train_scaled = scaler.fit_transform(x_train)\n",
    "X_test_scaled = scaler.transform(x_test)"
   ],
   "metadata": {
    "collapsed": false,
    "pycharm": {
     "name": "#%%\n"
    }
   }
  },
  {
   "cell_type": "markdown",
   "source": [
    "## Logistic Regression"
   ],
   "metadata": {
    "collapsed": false,
    "pycharm": {
     "name": "#%% md\n"
    }
   }
  },
  {
   "cell_type": "code",
   "execution_count": 623,
   "outputs": [
    {
     "data": {
      "text/plain": "LogisticRegression(C=1.0, class_weight=None, dual=False, fit_intercept=True,\n                   intercept_scaling=1, l1_ratio=None, max_iter=100,\n                   multi_class='auto', n_jobs=None, penalty='l2',\n                   random_state=42, solver='lbfgs', tol=0.0001, verbose=0,\n                   warm_start=False)"
     },
     "execution_count": 623,
     "metadata": {},
     "output_type": "execute_result"
    }
   ],
   "source": [
    "log_reg = LogisticRegression(random_state = 42)\n",
    "log_reg.fit(X_train_scaled, y_train)"
   ],
   "metadata": {
    "collapsed": false,
    "pycharm": {
     "name": "#%%\n"
    }
   }
  },
  {
   "cell_type": "code",
   "execution_count": 624,
   "outputs": [
    {
     "name": "stdout",
     "output_type": "stream",
     "text": [
      "[[2425  107]\n",
      " [ 312  397]]\n"
     ]
    }
   ],
   "source": [
    "print(confusion_matrix(y_test, log_reg.predict(X_test_scaled)))"
   ],
   "metadata": {
    "collapsed": false,
    "pycharm": {
     "name": "#%%\n"
    }
   }
  },
  {
   "cell_type": "code",
   "execution_count": 625,
   "outputs": [
    {
     "name": "stdout",
     "output_type": "stream",
     "text": [
      "              precision    recall  f1-score   support\n",
      "\n",
      "           0       0.89      0.96      0.92      2532\n",
      "           1       0.79      0.56      0.65       709\n",
      "\n",
      "    accuracy                           0.87      3241\n",
      "   macro avg       0.84      0.76      0.79      3241\n",
      "weighted avg       0.86      0.87      0.86      3241\n",
      "\n"
     ]
    }
   ],
   "source": [
    "print(classification_report(y_test, log_reg.predict(X_test_scaled)))"
   ],
   "metadata": {
    "collapsed": false,
    "pycharm": {
     "name": "#%%\n"
    }
   }
  },
  {
   "cell_type": "markdown",
   "source": [
    "## Random Forest"
   ],
   "metadata": {
    "collapsed": false,
    "pycharm": {
     "name": "#%% md\n"
    }
   }
  },
  {
   "cell_type": "code",
   "execution_count": 626,
   "outputs": [
    {
     "data": {
      "text/plain": "RandomForestClassifier(bootstrap=True, ccp_alpha=0.0, class_weight=None,\n                       criterion='gini', max_depth=None, max_features='auto',\n                       max_leaf_nodes=None, max_samples=None,\n                       min_impurity_decrease=0.0, min_impurity_split=None,\n                       min_samples_leaf=1, min_samples_split=2,\n                       min_weight_fraction_leaf=0.0, n_estimators=100,\n                       n_jobs=None, oob_score=False, random_state=42, verbose=0,\n                       warm_start=False)"
     },
     "execution_count": 626,
     "metadata": {},
     "output_type": "execute_result"
    }
   ],
   "source": [
    "rf = RandomForestClassifier(random_state = 42)\n",
    "rf.fit(X_train_scaled, y_train)"
   ],
   "metadata": {
    "collapsed": false,
    "pycharm": {
     "name": "#%%\n"
    }
   }
  },
  {
   "cell_type": "code",
   "execution_count": 627,
   "outputs": [
    {
     "name": "stdout",
     "output_type": "stream",
     "text": [
      "[[2525    7]\n",
      " [ 200  509]]\n"
     ]
    }
   ],
   "source": [
    "print(confusion_matrix(y_test, rf.predict(X_test_scaled)))"
   ],
   "metadata": {
    "collapsed": false,
    "pycharm": {
     "name": "#%%\n"
    }
   }
  },
  {
   "cell_type": "code",
   "execution_count": 628,
   "outputs": [
    {
     "name": "stdout",
     "output_type": "stream",
     "text": [
      "              precision    recall  f1-score   support\n",
      "\n",
      "           0       0.93      1.00      0.96      2532\n",
      "           1       0.99      0.72      0.83       709\n",
      "\n",
      "    accuracy                           0.94      3241\n",
      "   macro avg       0.96      0.86      0.90      3241\n",
      "weighted avg       0.94      0.94      0.93      3241\n",
      "\n"
     ]
    }
   ],
   "source": [
    "print(classification_report(y_test, rf.predict(X_test_scaled)))"
   ],
   "metadata": {
    "collapsed": false,
    "pycharm": {
     "name": "#%%\n"
    }
   }
  },
  {
   "cell_type": "markdown",
   "source": [
    "## Xgboost"
   ],
   "metadata": {
    "collapsed": false,
    "pycharm": {
     "name": "#%% md\n"
    }
   }
  },
  {
   "cell_type": "code",
   "execution_count": 635,
   "outputs": [],
   "source": [
    "#! pip install xgboost"
   ],
   "metadata": {
    "collapsed": false,
    "pycharm": {
     "name": "#%%\n"
    }
   }
  },
  {
   "cell_type": "code",
   "execution_count": 636,
   "outputs": [],
   "source": [
    "import xgboost"
   ],
   "metadata": {
    "collapsed": false,
    "pycharm": {
     "name": "#%%\n"
    }
   }
  },
  {
   "cell_type": "code",
   "execution_count": 637,
   "outputs": [
    {
     "data": {
      "text/plain": "XGBClassifier(base_score=0.5, booster=None, colsample_bylevel=1,\n              colsample_bynode=1, colsample_bytree=1, gamma=0, gpu_id=-1,\n              importance_type='gain', interaction_constraints=None,\n              learning_rate=0.300000012, max_delta_step=0, max_depth=6,\n              min_child_weight=1, missing=nan, monotone_constraints=None,\n              n_estimators=100, n_jobs=0, num_parallel_tree=1,\n              objective='binary:logistic', random_state=0, reg_alpha=0,\n              reg_lambda=1, scale_pos_weight=1, subsample=1, tree_method=None,\n              validate_parameters=False, verbosity=None)"
     },
     "execution_count": 637,
     "metadata": {},
     "output_type": "execute_result"
    }
   ],
   "source": [
    "xgb = xgboost.XGBClassifier()\n",
    "xgb.fit(x_train,y_train)"
   ],
   "metadata": {
    "collapsed": false,
    "pycharm": {
     "name": "#%%\n"
    }
   }
  },
  {
   "cell_type": "code",
   "execution_count": 638,
   "outputs": [
    {
     "name": "stdout",
     "output_type": "stream",
     "text": [
      "[[1604  928]\n",
      " [ 188  521]]\n"
     ]
    }
   ],
   "source": [
    "print(confusion_matrix(y_test, xgb.predict(X_test_scaled)))"
   ],
   "metadata": {
    "collapsed": false,
    "pycharm": {
     "name": "#%%\n"
    }
   }
  },
  {
   "cell_type": "code",
   "execution_count": 639,
   "outputs": [
    {
     "name": "stdout",
     "output_type": "stream",
     "text": [
      "              precision    recall  f1-score   support\n",
      "\n",
      "           0       0.90      0.63      0.74      2532\n",
      "           1       0.36      0.73      0.48       709\n",
      "\n",
      "    accuracy                           0.66      3241\n",
      "   macro avg       0.63      0.68      0.61      3241\n",
      "weighted avg       0.78      0.66      0.69      3241\n",
      "\n"
     ]
    }
   ],
   "source": [
    "print(classification_report(y_test, xgb.predict(X_test_scaled)))"
   ],
   "metadata": {
    "collapsed": false,
    "pycharm": {
     "name": "#%%\n"
    }
   }
  }
 ],
 "metadata": {
  "kernelspec": {
   "display_name": "Python 3",
   "language": "python",
   "name": "python3"
  },
  "language_info": {
   "codemirror_mode": {
    "name": "ipython",
    "version": 2
   },
   "file_extension": ".py",
   "mimetype": "text/x-python",
   "name": "python",
   "nbconvert_exporter": "python",
   "pygments_lexer": "ipython2",
   "version": "2.7.6"
  }
 },
 "nbformat": 4,
 "nbformat_minor": 0
}